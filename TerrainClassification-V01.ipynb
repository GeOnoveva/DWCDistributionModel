{
 "cells": [
  {
   "cell_type": "code",
   "execution_count": null,
   "metadata": {
    "collapsed": true
   },
   "outputs": [],
   "source": [
    "ptm <- proc.time()"
   ]
  },
  {
   "cell_type": "markdown",
   "metadata": {},
   "source": [
    "**Import libraries**"
   ]
  },
  {
   "cell_type": "code",
   "execution_count": null,
   "metadata": {
    "collapsed": false
   },
   "outputs": [],
   "source": [
    "library(rgrass7)\n",
    "library(rgdal)\n",
    "library(raster)\n",
    "library(cluster)\n",
    "library(randomForest)"
   ]
  },
  {
   "cell_type": "markdown",
   "metadata": {},
   "source": [
    "**Set GRASS LOCATION** \n",
    "\n",
    "    create it if doesn't exist',EPSG:32633"
   ]
  },
  {
   "cell_type": "code",
   "execution_count": null,
   "metadata": {
    "collapsed": false
   },
   "outputs": [],
   "source": [
    "loc <- initGRASS(\"/home/epilib/Envs/env1/grass-7.1.svn\", home=tempdir())\n",
    "execGRASS('g.proj',epsg=as.integer(32633), location='utm_wgs84_33N')\n",
    "execGRASS('g.mapset', mapset='PERMANENT', location='utm_wgs84_33N') "
   ]
  },
  {
   "cell_type": "markdown",
   "metadata": {},
   "source": [
    "**Import Bathy**"
   ]
  },
  {
   "cell_type": "raw",
   "metadata": {
    "collapsed": false
   },
   "source": [
    "## create a raster for use in grass\n",
    "execGRASS('r.in.gdal', input=\"/home/epinux/bathy20_1.tif\",\n",
    "          flags=c('overwrite','o','e'), output='elev')  # o= override the prjection parameters, and e=extend the location\n",
    "\n",
    "# should we aggregate the bathy at this point?\n",
    "\n",
    "## set the region to the extent of the file\n",
    "execGRASS('g.region', raster='elev', res='20', flags=c('a','p'))        # align cells with region extent"
   ]
  },
  {
   "cell_type": "markdown",
   "metadata": {},
   "source": [
    "**Bathy Sub set**"
   ]
  },
  {
   "cell_type": "code",
   "execution_count": null,
   "metadata": {
    "collapsed": false
   },
   "outputs": [],
   "source": [
    "execGRASS('g.region', raster='elev', res='20', w='580000',e='625000',s='7770000',n='7840000', flags=c('a','p')) \n",
    "execGRASS('r.mapcalc', expression = 'minielev=elev', flags='overwrite') "
   ]
  },
  {
   "cell_type": "code",
   "execution_count": 25,
   "metadata": {
    "collapsed": false
   },
   "outputs": [],
   "source": [
    "library(rgrass7)\n",
    "library(rgdal)\n",
    "library(raster)\n",
    "\n",
    "    # Input:\n",
    "    #    elevation: grid used as input\n",
    "    #    resolution: (FALSE, Int) manualy set the resolution, FALSE use native dataset resolution\n",
    "    #    win_neighbors:  int, default:9 - Size in pixel for the neighbors moving window operator.\n",
    "    #                    (used to compute: average, minimun, maximum elevation)\n",
    "    #    win_param_scale: int, default:15 - Size in pixel for the param_scale moving window operator.\n",
    "    #                    (used to compute: profile, cross, minimum, longitudinal curvatures)\n",
    "    #    curvature_tolerance: float, default: 0.0001 (*)\n",
    "    #    slope_tolerance: float, default: 0.1 (*)\n",
    "    #    exponent: float, default: 0.0 (*)\n",
    "    #    zscale: float, default: 1.0 (*)\n",
    "    #    Remove: boolean, If TRUE remove intermediate products. default FALSE\n",
    "    #    \n",
    "    #    (*) : more info at http://grass.osgeo.org/grass71/manuals/r.param.scale.html\n",
    "    #\n",
    "    # Output:\n",
    "    #    brick raster. Layers: \n",
    "    #    'er','xslope','profc','crosc','minic','maxic','longc'\n",
    "\n",
    "morphoclara <- function(elevation, resolution=FALSE, win_neighbors=9, win_param_scale=15, curvature_tolerance=0.0001, slope_tolerance=0.1, exponent=0.0, zscale=1.0, remove=FALSE ){\n",
    "if (resolution) {\n",
    "    execGRASS('g.region',  raster=elevation, res=toString(resolution), flags='p') \n",
    "    } else if (!resolution) {\n",
    "    execGRASS('g.region', raster=elevation, flags='p')\n",
    "} \n",
    "print('average elevation')\n",
    "execGRASS('r.neighbors', input=elevation, output='avg', size=as.integer(win_neighbors),\n",
    "          method='average', flags='overwrite')\n",
    "print('minimum elevation')\n",
    "execGRASS('r.neighbors', input=elevation, output='min', size=as.integer(win_neighbors),\n",
    "          method='minimum', flags='overwrite')\n",
    "print('maximum elevation')\n",
    "execGRASS('r.neighbors', input=elevation, output='max', size=as.integer(win_neighbors),\n",
    "          method='maximum', flags='overwrite')\n",
    "print('normalized elevation')\n",
    "execGRASS('r.mapcalc', expression = 'er=1.0*(avg-min)/(max-min)', flags='overwrite') \n",
    "print('slope')\n",
    "execGRASS('r.slope.aspect', elevation=elevation, slope='slope', flags='overwrite')\n",
    "minmax <- read.table(textConnection(execGRASS('r.info', map='slope', flags=c('r'), intern=TRUE)), \n",
    "                     header=FALSE, sep=\"=\")\n",
    "maxslope = minmax[2,2]\n",
    "expression <- paste('xslope=slope/',maxslope)\n",
    "execGRASS('r.mapcalc', expression = expression, flags='overwrite') \n",
    "print('Profile curvature')\n",
    "execGRASS('r.param.scale', input=elevation, output='profc', size=as.integer(win_param_scale),\n",
    "          slope_tolerance=as.numeric(slope_tolerance), curvature_tolerance=as.numeric(curvature_tolerance), \n",
    "          method='profc', exponent=as.numeric(exponent), zscale=as.numeric(zscale), flags='overwrite')\n",
    "print('Cross-sectional curvature')\n",
    "execGRASS('r.param.scale', input=elevation, output='crosc', size=as.integer(win_param_scale),\n",
    "          slope_tolerance=as.numeric(slope_tolerance), curvature_tolerance=as.numeric(curvature_tolerance), \n",
    "          method='crosc', exponent=as.numeric(exponent), zscale=as.numeric(zscale), flags='overwrite')\n",
    "print('Minimum curvature')\n",
    "execGRASS('r.param.scale', input=elevation, output='minic', size=as.integer(win_param_scale),\n",
    "          slope_tolerance=as.numeric(slope_tolerance), curvature_tolerance=as.numeric(curvature_tolerance), \n",
    "          method='minic', exponent=as.numeric(exponent), zscale=as.numeric(zscale), flags='overwrite')\n",
    "print('Maximum curvature')\n",
    "execGRASS('r.param.scale', input=elevation, output='maxic', size=as.integer(win_param_scale),\n",
    "          slope_tolerance=as.numeric(slope_tolerance), curvature_tolerance=as.numeric(curvature_tolerance), \n",
    "          method='maxic', exponent=as.numeric(exponent), zscale=as.numeric(zscale), flags='overwrite')\n",
    "print('Longitudinal curvature')\n",
    "execGRASS('r.param.scale', input=elevation, output='longc', size=as.integer(win_param_scale),\n",
    "          slope_tolerance=as.numeric(slope_tolerance), curvature_tolerance=as.numeric(curvature_tolerance), \n",
    "          method='longc', exponent=as.numeric(exponent), zscale=as.numeric(zscale), flags='overwrite')                                                                                       \n",
    "rasters <- readRAST(c('er','xslope','profc','crosc','minic','maxic','longc'), cat=NULL, \n",
    "                    ignore.stderr = get.ignore.stderrOption(), NODATA=NULL,\n",
    "                    mapset=NULL, useGDAL=get.useGDALOption(), close_OK=TRUE, drivername=\"GTiff\",\n",
    "                    driverFileExt=NULL, return_SGDF=TRUE)\n",
    "print('Raster stack')\n",
    "s <- stack(rasters)\n",
    "names(s) <- c('er','xslope','profc','crosc','minic','maxic','longc')\n",
    "if (remove) {execGRASS('g.remove', type='raster', name=c('er','xslope','profc','crosc','minic','maxic','longc'), flags='f')\n",
    "}\n",
    "return(s)\n",
    "}\n"
   ]
  },
  {
   "cell_type": "code",
   "execution_count": null,
   "metadata": {
    "collapsed": false
   },
   "outputs": [],
   "source": [
    "s <- morphoclara(elevation='minielev', remove=TRUE)"
   ]
  },
  {
   "cell_type": "code",
   "execution_count": null,
   "metadata": {
    "collapsed": false
   },
   "outputs": [],
   "source": [
    "s"
   ]
  },
  {
   "cell_type": "code",
   "execution_count": null,
   "metadata": {
    "collapsed": false
   },
   "outputs": [],
   "source": [
    "# we can't operate on the entire set of cells,\n",
    "# so we use one of the central concepts from statistics: sampling\n",
    "# sample 10000 random points\n",
    "s.r <- as.data.frame(sampleRegular(s, 10000))\n",
    "\n",
    "# clara() function: need to remove NA from training set\n",
    "s.r <- na.omit(s.r)\n",
    "\n",
    "ncl <- numeric(8)\n",
    "for (i in 2:9) ncl[i] <- clara(s.r,stand=TRUE,k=i)$ silinfo $ avg.width\n",
    "plot(2:10,ncl,type=\"b\")\n",
    "\n",
    "s.clara <- clara(s.r, stand=TRUE, k=6)\n",
    "s.r$cluster <- factor(s.clara$clustering)\n",
    "\n",
    "rf <- randomForest(cluster ~ er + xslope + profc + crosc + minic + maxic\n",
    "                   + longc, data=s.r, importance=TRUE, ntree=201)\n",
    "\n",
    "# make predictions from rf model, along all cells of input stack\n",
    "p <- predict(s, rf, type='response', progress='text')\n",
    "\n",
    "# variable importance: all contribute about the same... good\n",
    "#importance(rf)\n",
    "#varImpPlot(rf)\n",
    "\n",
    "# customized plot (needs an extra library)\n",
    "#par(mar=c(0,0,0,0))\n",
    "#plot(p, maxpixels=50000, axes=FALSE, legend=FALSE, col=brewer.pal('Set1', n=5))\n",
    "\n",
    "writeRaster(p, \"TerClass_sub.asc\")"
   ]
  },
  {
   "cell_type": "code",
   "execution_count": null,
   "metadata": {
    "collapsed": false
   },
   "outputs": [],
   "source": [
    "plot(p)"
   ]
  },
  {
   "cell_type": "code",
   "execution_count": null,
   "metadata": {
    "collapsed": false
   },
   "outputs": [],
   "source": [
    "execGRASS('r.in.gdal', input='TerClass_sub.asc', output='TerClass_sub', flags=c('overwrite','o','e'))"
   ]
  },
  {
   "cell_type": "code",
   "execution_count": null,
   "metadata": {
    "collapsed": false
   },
   "outputs": [],
   "source": [
    "execGRASS('r.info', map='TerClass_sub')"
   ]
  },
  {
   "cell_type": "code",
   "execution_count": null,
   "metadata": {
    "collapsed": false
   },
   "outputs": [],
   "source": [
    "execGRASS('g.region', raster='TerClass_sub', flags=c('a','p')) "
   ]
  },
  {
   "cell_type": "code",
   "execution_count": null,
   "metadata": {
    "collapsed": false
   },
   "outputs": [],
   "source": [
    "execGRASS('r.report', flags=c('i','e'), map='TerClass_sub', units=c('me','h','p'), nsteps=255)"
   ]
  },
  {
   "cell_type": "code",
   "execution_count": null,
   "metadata": {
    "collapsed": false
   },
   "outputs": [],
   "source": [
    "execGRASS('r.univar', map='TerClass_sub')"
   ]
  },
  {
   "cell_type": "code",
   "execution_count": null,
   "metadata": {
    "collapsed": false
   },
   "outputs": [],
   "source": [
    "tempfile(fileext='.png') "
   ]
  },
  {
   "cell_type": "code",
   "execution_count": null,
   "metadata": {
    "collapsed": false
   },
   "outputs": [],
   "source": [
    "proc.time() - ptm"
   ]
  }
 ],
 "metadata": {
  "gist_id": "8f76c1ba65384f93fd5e",
  "kernelspec": {
   "display_name": "R",
   "language": "",
   "name": "ir"
  },
  "language_info": {
   "codemirror_mode": "r",
   "file_extension": ".r",
   "mimetype": "text/x-r-source",
   "name": "R",
   "pygments_lexer": "r"
  }
 },
 "nbformat": 4,
 "nbformat_minor": 0
}
